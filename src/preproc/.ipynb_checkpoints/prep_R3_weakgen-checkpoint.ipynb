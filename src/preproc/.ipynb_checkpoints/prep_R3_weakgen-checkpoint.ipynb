{
 "cells": [
  {
   "cell_type": "code",
   "execution_count": 1,
   "metadata": {
    "colab": {
     "autoexec": {
      "startup": false,
      "wait_interval": 0
     },
     "base_uri": "https://localhost:8080/",
     "height": 71
    },
    "colab_type": "code",
    "executionInfo": {
     "elapsed": 2262,
     "status": "ok",
     "timestamp": 1524204041966,
     "user": {
      "displayName": "Yixin Wang",
      "photoUrl": "//lh4.googleusercontent.com/-g-8r3ggQo6c/AAAAAAAAAAI/AAAAAAAAJ0E/eQJGyS8z2OA/s50-c-k-no/photo.jpg",
      "userId": "117732458334621555108"
     },
     "user_tz": 240
    },
    "id": "I_2rLIOPn8s4",
    "outputId": "81601cd9-9738-4516-b3e6-f09ea4a2c02e"
   },
   "outputs": [],
   "source": [
    "%matplotlib inline\n",
    "from __future__ import absolute_import\n",
    "from __future__ import division\n",
    "from __future__ import print_function\n",
    "\n",
    "import os\n",
    "import sys\n",
    "\n",
    "import matplotlib.pyplot as plt\n",
    "import numpy as np\n",
    "import pandas as pd\n",
    "import numpy.random as npr\n",
    "from sklearn.cluster import KMeans\n",
    "from scipy.stats import invgamma\n",
    "\n",
    "from scipy import sparse, stats\n",
    "\n",
    "plt.style.use('ggplot')"
   ]
  },
  {
   "cell_type": "code",
   "execution_count": 2,
   "metadata": {
    "colab": {
     "autoexec": {
      "startup": false,
      "wait_interval": 0
     }
    },
    "colab_type": "code",
    "id": "IeY4ZVFskniQ"
   },
   "outputs": [],
   "source": [
    "import seaborn as sns\n",
    "sns.set_style(\"white\")\n",
    "sns.set_context(\"paper\")\n",
    "\n",
    "color_names = [\"red\",\n",
    "               \"windows blue\",\n",
    "               \"medium green\",\n",
    "               \"dusty purple\",\n",
    "               \"orange\",\n",
    "               \"amber\",\n",
    "               \"clay\",\n",
    "               \"pink\",\n",
    "               \"greyish\",\n",
    "               \"light cyan\",\n",
    "               \"steel blue\",\n",
    "               \"forest green\",\n",
    "               \"pastel purple\",\n",
    "               \"mint\",\n",
    "               \"salmon\",\n",
    "               \"dark brown\"]\n",
    "colors = sns.xkcd_palette(color_names)"
   ]
  },
  {
   "cell_type": "code",
   "execution_count": 3,
   "metadata": {},
   "outputs": [],
   "source": [
    "DATA_DIR = '../raw_data/Webscope_R3'"
   ]
  },
  {
   "cell_type": "code",
   "execution_count": 4,
   "metadata": {},
   "outputs": [],
   "source": [
    "OUT_DATA_DIR = '../data/R3_wg'"
   ]
  },
  {
   "cell_type": "markdown",
   "metadata": {
    "colab_type": "text",
    "id": "PDmqLFdveAXE"
   },
   "source": [
    "## R3"
   ]
  },
  {
   "cell_type": "code",
   "execution_count": 5,
   "metadata": {
    "colab": {
     "autoexec": {
      "startup": false,
      "wait_interval": 0
     }
    },
    "colab_type": "code",
    "id": "2fRRCqS_mhgy"
   },
   "outputs": [],
   "source": [
    "tr_vd_data = pd.read_csv(os.path.join(DATA_DIR, 'ydata-ymusic-rating-study-v1_0-train.txt'), sep=\"\\t\", header=None, \n",
    "                       names=['userId', 'songId', 'rating'],engine=\"python\")\n",
    "test_data = pd.read_csv(os.path.join(DATA_DIR, 'ydata-ymusic-rating-study-v1_0-test.txt'), sep=\"\\t\", header=None, \n",
    "                       names=['userId', 'songId', 'rating'],engine=\"python\")"
   ]
  },
  {
   "cell_type": "code",
   "execution_count": 6,
   "metadata": {
    "colab": {
     "autoexec": {
      "startup": false,
      "wait_interval": 0
     },
     "base_uri": "https://localhost:8080/",
     "height": 1969
    },
    "colab_type": "code",
    "executionInfo": {
     "elapsed": 538,
     "status": "ok",
     "timestamp": 1524201244776,
     "user": {
      "displayName": "Yixin Wang",
      "photoUrl": "//lh4.googleusercontent.com/-g-8r3ggQo6c/AAAAAAAAAAI/AAAAAAAAJ0E/eQJGyS8z2OA/s50-c-k-no/photo.jpg",
      "userId": "117732458334621555108"
     },
     "user_tz": 240
    },
    "id": "e7EYfXBfyyNe",
    "outputId": "18bcdbfe-ab5a-4ba5-96d0-1ba58efa87ee"
   },
   "outputs": [
    {
     "data": {
      "text/plain": [
       "(   userId  songId  rating\n",
       " 0       1      14       5\n",
       " 1       1      35       1\n",
       " 2       1      46       1\n",
       " 3       1      83       1\n",
       " 4       1      93       1, (311704, 3))"
      ]
     },
     "execution_count": 6,
     "metadata": {},
     "output_type": "execute_result"
    }
   ],
   "source": [
    "tr_vd_data.head(), tr_vd_data.shape"
   ]
  },
  {
   "cell_type": "code",
   "execution_count": 7,
   "metadata": {
    "colab": {
     "autoexec": {
      "startup": false,
      "wait_interval": 0
     },
     "base_uri": "https://localhost:8080/",
     "height": 1969
    },
    "colab_type": "code",
    "executionInfo": {
     "elapsed": 922,
     "status": "ok",
     "timestamp": 1524201247708,
     "user": {
      "displayName": "Yixin Wang",
      "photoUrl": "//lh4.googleusercontent.com/-g-8r3ggQo6c/AAAAAAAAAAI/AAAAAAAAJ0E/eQJGyS8z2OA/s50-c-k-no/photo.jpg",
      "userId": "117732458334621555108"
     },
     "user_tz": 240
    },
    "id": "mwRHyqrVLyEt",
    "outputId": "1b9f4c4c-84b2-4a0e-9587-9879b46a9e79"
   },
   "outputs": [
    {
     "data": {
      "text/plain": [
       "(   userId  songId  rating\n",
       " 0       1      49       1\n",
       " 1       1     126       1\n",
       " 2       1     138       1\n",
       " 3       1     141       1\n",
       " 4       1     177       1, (54000, 3))"
      ]
     },
     "execution_count": 7,
     "metadata": {},
     "output_type": "execute_result"
    }
   ],
   "source": [
    "test_data.head(), test_data.shape"
   ]
  },
  {
   "cell_type": "code",
   "execution_count": 8,
   "metadata": {
    "colab": {
     "autoexec": {
      "startup": false,
      "wait_interval": 0
     }
    },
    "colab_type": "code",
    "id": "gkanVz41Kojc"
   },
   "outputs": [],
   "source": [
    "def split_train_test_proportion(data, uid, test_prop=0.5, random_seed=0):\n",
    "    data_grouped_by_user = data.groupby(uid)\n",
    "    tr_list, te_list = list(), list()\n",
    "\n",
    "    np.random.seed(random_seed)\n",
    "\n",
    "    for u, (_, group) in enumerate(data_grouped_by_user):\n",
    "        n_items_u = len(group)\n",
    "\n",
    "        if n_items_u >= 5:\n",
    "            idx = np.zeros(n_items_u, dtype='bool')\n",
    "            idx[np.random.choice(n_items_u, size=int(test_prop * n_items_u), replace=False).astype('int64')] = True\n",
    "\n",
    "            tr_list.append(group[np.logical_not(idx)])\n",
    "            te_list.append(group[idx])\n",
    "        else:\n",
    "            tr_list.append(group)\n",
    "\n",
    "        if u % 5000 == 0:\n",
    "            print(\"%d users sampled\" % u)\n",
    "            sys.stdout.flush()\n",
    "\n",
    "    data_tr = pd.concat(tr_list)\n",
    "    data_te = pd.concat(te_list)\n",
    "    \n",
    "    return data_tr, data_te"
   ]
  },
  {
   "cell_type": "code",
   "execution_count": 9,
   "metadata": {
    "colab": {
     "autoexec": {
      "startup": false,
      "wait_interval": 0
     }
    },
    "colab_type": "code",
    "id": "cH3GPNOvDZc7"
   },
   "outputs": [],
   "source": [
    "def get_count(tp, id):\n",
    "    playcount_groupbyid = tp[[id]].groupby(id, as_index=False)\n",
    "    count = playcount_groupbyid.size()\n",
    "    return count"
   ]
  },
  {
   "cell_type": "code",
   "execution_count": 10,
   "metadata": {
    "colab": {
     "autoexec": {
      "startup": false,
      "wait_interval": 0
     }
    },
    "colab_type": "code",
    "id": "MDDVwdvJDh6d"
   },
   "outputs": [],
   "source": [
    "user_activity = get_count(tr_vd_data, 'userId')\n",
    "item_popularity = get_count(tr_vd_data, 'songId')"
   ]
  },
  {
   "cell_type": "code",
   "execution_count": 11,
   "metadata": {
    "colab": {
     "autoexec": {
      "startup": false,
      "wait_interval": 0
     }
    },
    "colab_type": "code",
    "id": "zAnulV99D54u"
   },
   "outputs": [],
   "source": [
    "unique_uid = user_activity.index\n",
    "unique_sid = item_popularity.index"
   ]
  },
  {
   "cell_type": "code",
   "execution_count": 12,
   "metadata": {
    "colab": {
     "autoexec": {
      "startup": false,
      "wait_interval": 0
     }
    },
    "colab_type": "code",
    "id": "I56-nespD3Hb"
   },
   "outputs": [],
   "source": [
    "n_users = len(unique_uid)\n",
    "n_items = len(unique_sid)"
   ]
  },
  {
   "cell_type": "code",
   "execution_count": 13,
   "metadata": {
    "colab": {
     "autoexec": {
      "startup": false,
      "wait_interval": 0
     },
     "base_uri": "https://localhost:8080/",
     "height": 34
    },
    "colab_type": "code",
    "executionInfo": {
     "elapsed": 530,
     "status": "ok",
     "timestamp": 1524095758480,
     "user": {
      "displayName": "Yixin Wang",
      "photoUrl": "//lh4.googleusercontent.com/-g-8r3ggQo6c/AAAAAAAAAAI/AAAAAAAAJ0E/eQJGyS8z2OA/s50-c-k-no/photo.jpg",
      "userId": "117732458334621555108"
     },
     "user_tz": 240
    },
    "id": "J35pKmTAL-Tt",
    "outputId": "cd499cd9-9d2c-47b1-8678-1dd0d47f18d4"
   },
   "outputs": [
    {
     "data": {
      "text/plain": [
       "(15400, 1000)"
      ]
     },
     "execution_count": 13,
     "metadata": {},
     "output_type": "execute_result"
    }
   ],
   "source": [
    "n_users, n_items"
   ]
  },
  {
   "cell_type": "code",
   "execution_count": 14,
   "metadata": {
    "colab": {
     "autoexec": {
      "startup": false,
      "wait_interval": 0
     }
    },
    "colab_type": "code",
    "id": "7bb7UbijD9R4"
   },
   "outputs": [],
   "source": [
    "song2id = dict((sid, i) for (i, sid) in enumerate(unique_sid))\n",
    "user2id = dict((uid, i) for (i, uid) in enumerate(unique_uid))"
   ]
  },
  {
   "cell_type": "code",
   "execution_count": 15,
   "metadata": {
    "colab": {
     "autoexec": {
      "startup": false,
      "wait_interval": 0
     }
    },
    "colab_type": "code",
    "id": "fjiuRnYFECNf"
   },
   "outputs": [],
   "source": [
    "# for the test set, only keep the users/items from the training set\n",
    "\n",
    "test_data = test_data.loc[test_data['userId'].isin(unique_uid)]\n",
    "test_data = test_data.loc[test_data['songId'].isin(unique_sid)]"
   ]
  },
  {
   "cell_type": "code",
   "execution_count": 16,
   "metadata": {
    "colab": {
     "autoexec": {
      "startup": false,
      "wait_interval": 0
     }
    },
    "colab_type": "code",
    "id": "1euQoZ6qEFBr"
   },
   "outputs": [],
   "source": [
    "with open(os.path.join(OUT_DATA_DIR, 'unique_uid.txt'), 'w') as f:\n",
    "    for uid in unique_uid:\n",
    "        f.write('%s\\n' % uid)\n",
    "\n",
    "with open(os.path.join(OUT_DATA_DIR, 'unique_sid.txt'), 'w') as f:\n",
    "    for sid in unique_sid:\n",
    "        f.write('%s\\n' % sid)"
   ]
  },
  {
   "cell_type": "markdown",
   "metadata": {
    "colab_type": "text",
    "id": "fqGXUUC1GDRW"
   },
   "source": [
    "# Turn userId and songId to 0-based index"
   ]
  },
  {
   "cell_type": "code",
   "execution_count": 17,
   "metadata": {
    "colab": {
     "autoexec": {
      "startup": false,
      "wait_interval": 0
     }
    },
    "colab_type": "code",
    "id": "95od2lloGEwe"
   },
   "outputs": [],
   "source": [
    "def numerize(tp):\n",
    "    uid = list(map(lambda x: user2id[x], tp['userId']))\n",
    "    sid = list(map(lambda x: song2id[x], tp['songId']))\n",
    "    tp.loc[:, 'uid'] = uid\n",
    "    tp.loc[:, 'sid'] = sid\n",
    "    return tp[['uid', 'sid', 'rating']]"
   ]
  },
  {
   "cell_type": "code",
   "execution_count": 18,
   "metadata": {
    "colab": {
     "autoexec": {
      "startup": false,
      "wait_interval": 0
     }
    },
    "colab_type": "code",
    "id": "z4Po1f1bGi9v"
   },
   "outputs": [],
   "source": [
    "tr_vd_data = numerize(tr_vd_data)\n",
    "test_data = numerize(test_data)"
   ]
  },
  {
   "cell_type": "code",
   "execution_count": 19,
   "metadata": {
    "colab": {
     "autoexec": {
      "startup": false,
      "wait_interval": 0
     },
     "base_uri": "https://localhost:8080/",
     "height": 85
    },
    "colab_type": "code",
    "executionInfo": {
     "elapsed": 12117,
     "status": "ok",
     "timestamp": 1524095778070,
     "user": {
      "displayName": "Yixin Wang",
      "photoUrl": "//lh4.googleusercontent.com/-g-8r3ggQo6c/AAAAAAAAAAI/AAAAAAAAJ0E/eQJGyS8z2OA/s50-c-k-no/photo.jpg",
      "userId": "117732458334621555108"
     },
     "user_tz": 240
    },
    "id": "_t7XVdDQG2cQ",
    "outputId": "7374f8f2-3e8a-442e-fec9-64d6b0ed581d"
   },
   "outputs": [
    {
     "name": "stdout",
     "output_type": "stream",
     "text": [
      "0 users sampled\n",
      "5000 users sampled\n",
      "10000 users sampled\n",
      "15000 users sampled\n",
      "0 users sampled\n",
      "5000 users sampled\n",
      "10000 users sampled\n",
      "15000 users sampled\n"
     ]
    }
   ],
   "source": [
    "train_data, vad_data = split_train_test_proportion(tr_vd_data, 'uid', test_prop=0.6, random_seed=12345)\n",
    "obs_test_data, vad_data = split_train_test_proportion(vad_data, 'uid', test_prop=0.5, random_seed=12345)"
   ]
  },
  {
   "cell_type": "code",
   "execution_count": 20,
   "metadata": {
    "colab": {
     "autoexec": {
      "startup": false,
      "wait_interval": 0
     },
     "base_uri": "https://localhost:8080/",
     "height": 34
    },
    "colab_type": "code",
    "executionInfo": {
     "elapsed": 584,
     "status": "ok",
     "timestamp": 1524095778829,
     "user": {
      "displayName": "Yixin Wang",
      "photoUrl": "//lh4.googleusercontent.com/-g-8r3ggQo6c/AAAAAAAAAAI/AAAAAAAAJ0E/eQJGyS8z2OA/s50-c-k-no/photo.jpg",
      "userId": "117732458334621555108"
     },
     "user_tz": 240
    },
    "id": "jeEbdqopG4fK",
    "outputId": "5b086b4f-355f-47c1-a1f4-58b32249c251"
   },
   "outputs": [
    {
     "name": "stdout",
     "output_type": "stream",
     "text": [
      "There are total of 15400 unique users in the training set and 15400 unique users in the entire dataset\n"
     ]
    }
   ],
   "source": [
    "print(\"There are total of %d unique users in the training set and %d unique users in the entire dataset\" % \\\n",
    "(len(pd.unique(train_data['uid'])), len(unique_uid)))"
   ]
  },
  {
   "cell_type": "code",
   "execution_count": 21,
   "metadata": {
    "colab": {
     "autoexec": {
      "startup": false,
      "wait_interval": 0
     },
     "base_uri": "https://localhost:8080/",
     "height": 34
    },
    "colab_type": "code",
    "executionInfo": {
     "elapsed": 770,
     "status": "ok",
     "timestamp": 1524095780092,
     "user": {
      "displayName": "Yixin Wang",
      "photoUrl": "//lh4.googleusercontent.com/-g-8r3ggQo6c/AAAAAAAAAAI/AAAAAAAAJ0E/eQJGyS8z2OA/s50-c-k-no/photo.jpg",
      "userId": "117732458334621555108"
     },
     "user_tz": 240
    },
    "id": "J6q3C0FdG_AY",
    "outputId": "440ce3cd-546d-4dd3-830e-f9b8267e8e06"
   },
   "outputs": [
    {
     "name": "stdout",
     "output_type": "stream",
     "text": [
      "There are total of 1000 unique items in the training set and 1000 unique items in the entire dataset\n"
     ]
    }
   ],
   "source": [
    "print(\"There are total of %d unique items in the training set and %d unique items in the entire dataset\" % \\\n",
    "(len(pd.unique(train_data['sid'])), len(unique_sid)))"
   ]
  },
  {
   "cell_type": "code",
   "execution_count": 22,
   "metadata": {
    "colab": {
     "autoexec": {
      "startup": false,
      "wait_interval": 0
     }
    },
    "colab_type": "code",
    "id": "qvWsFXkfHCgI"
   },
   "outputs": [],
   "source": [
    "def move_to_fill(part_data_1, part_data_2, unique_id, key):\n",
    "    # move the data from part_data_2 to part_data_1 so that part_data_1 has the same number of unique \"key\" as unique_id\n",
    "    part_id = set(pd.unique(part_data_1[key]))\n",
    "    \n",
    "    left_id = list()\n",
    "    for i, _id in enumerate(unique_id):\n",
    "        if _id not in part_id:\n",
    "            left_id.append(_id)\n",
    "            \n",
    "    move_idx = part_data_2[key].isin(left_id)\n",
    "    part_data_1 = part_data_1.append(part_data_2[move_idx])\n",
    "    part_data_2 = part_data_2[~move_idx]\n",
    "    return part_data_1, part_data_2"
   ]
  },
  {
   "cell_type": "code",
   "execution_count": 23,
   "metadata": {
    "colab": {
     "autoexec": {
      "startup": false,
      "wait_interval": 0
     }
    },
    "colab_type": "code",
    "id": "2LyqBIgGHHAf"
   },
   "outputs": [],
   "source": [
    "train_data, vad_data = move_to_fill(train_data, vad_data, np.arange(n_items), 'sid')\n",
    "train_data, obs_test_data = move_to_fill(train_data, obs_test_data, np.arange(n_items), 'sid')"
   ]
  },
  {
   "cell_type": "code",
   "execution_count": 24,
   "metadata": {
    "colab": {
     "autoexec": {
      "startup": false,
      "wait_interval": 0
     },
     "base_uri": "https://localhost:8080/",
     "height": 34
    },
    "colab_type": "code",
    "executionInfo": {
     "elapsed": 559,
     "status": "ok",
     "timestamp": 1524095783657,
     "user": {
      "displayName": "Yixin Wang",
      "photoUrl": "//lh4.googleusercontent.com/-g-8r3ggQo6c/AAAAAAAAAAI/AAAAAAAAJ0E/eQJGyS8z2OA/s50-c-k-no/photo.jpg",
      "userId": "117732458334621555108"
     },
     "user_tz": 240
    },
    "id": "JRxdA86dHH2H",
    "outputId": "5d7ec839-9db1-4617-fa45-3030238641d1"
   },
   "outputs": [
    {
     "name": "stdout",
     "output_type": "stream",
     "text": [
      "There are total of 1000 unique items in the training set and 1000 unique items in the entire dataset\n"
     ]
    }
   ],
   "source": [
    "print(\"There are total of %d unique items in the training set and %d unique items in the entire dataset\" % \\\n",
    "(len(pd.unique(train_data['sid'])), len(unique_sid)))"
   ]
  },
  {
   "cell_type": "code",
   "execution_count": 25,
   "metadata": {
    "colab": {
     "autoexec": {
      "startup": false,
      "wait_interval": 0
     }
    },
    "colab_type": "code",
    "id": "EhDJGA-mHPO0"
   },
   "outputs": [],
   "source": [
    "train_data.to_csv(os.path.join(OUT_DATA_DIR, 'train.csv'), index=False)\n",
    "vad_data.to_csv(os.path.join(OUT_DATA_DIR, 'validation.csv'), index=False)\n",
    "tr_vd_data.to_csv(os.path.join(OUT_DATA_DIR, 'train_full.csv'), index=False)"
   ]
  },
  {
   "cell_type": "code",
   "execution_count": 26,
   "metadata": {
    "colab": {
     "autoexec": {
      "startup": false,
      "wait_interval": 0
     }
    },
    "colab_type": "code",
    "id": "zyxN842QHR1I"
   },
   "outputs": [],
   "source": [
    "obs_test_data.to_csv(os.path.join(OUT_DATA_DIR, 'obs_test_full.csv'), index=False)\n",
    "test_data.to_csv(os.path.join(OUT_DATA_DIR, 'test_full.csv'), index=False)"
   ]
  },
  {
   "cell_type": "markdown",
   "metadata": {
    "colab_type": "text",
    "id": "dHKTX3_9K61i"
   },
   "source": [
    "# Load the data"
   ]
  },
  {
   "cell_type": "code",
   "execution_count": 27,
   "metadata": {
    "colab": {
     "autoexec": {
      "startup": false,
      "wait_interval": 0
     }
    },
    "colab_type": "code",
    "id": "q0BF1UD_K9G2"
   },
   "outputs": [],
   "source": [
    "unique_uid = list()\n",
    "with open(os.path.join(OUT_DATA_DIR, 'unique_uid.txt'), 'r') as f:\n",
    "    for line in f:\n",
    "        unique_uid.append(line.strip())\n",
    "    \n",
    "unique_sid = list()\n",
    "with open(os.path.join(OUT_DATA_DIR, 'unique_sid.txt'), 'r') as f:\n",
    "    for line in f:\n",
    "        unique_sid.append(line.strip())"
   ]
  },
  {
   "cell_type": "code",
   "execution_count": 28,
   "metadata": {
    "colab": {
     "autoexec": {
      "startup": false,
      "wait_interval": 0
     },
     "base_uri": "https://localhost:8080/",
     "height": 34
    },
    "colab_type": "code",
    "executionInfo": {
     "elapsed": 672,
     "status": "ok",
     "timestamp": 1524204049306,
     "user": {
      "displayName": "Yixin Wang",
      "photoUrl": "//lh4.googleusercontent.com/-g-8r3ggQo6c/AAAAAAAAAAI/AAAAAAAAJ0E/eQJGyS8z2OA/s50-c-k-no/photo.jpg",
      "userId": "117732458334621555108"
     },
     "user_tz": 240
    },
    "id": "Eju35Uw6LA_Y",
    "outputId": "ad903e66-6d86-4d5f-9ab2-799ed4b2d094"
   },
   "outputs": [
    {
     "name": "stdout",
     "output_type": "stream",
     "text": [
      "15400 1000\n"
     ]
    }
   ],
   "source": [
    "n_items = len(unique_sid)\n",
    "n_users = len(unique_uid)\n",
    "\n",
    "print(n_users, n_items)"
   ]
  },
  {
   "cell_type": "code",
   "execution_count": 29,
   "metadata": {
    "colab": {
     "autoexec": {
      "startup": false,
      "wait_interval": 0
     }
    },
    "colab_type": "code",
    "id": "4gbL2JiALEhT"
   },
   "outputs": [],
   "source": [
    "def load_data(csv_file, shape=(n_users, n_items)):\n",
    "    tp = pd.read_csv(csv_file)\n",
    "    rows, cols, vals = np.array(tp['uid']), np.array(tp['sid']), np.array(tp['rating']) \n",
    "    data = sparse.csr_matrix((vals, (rows, cols)), dtype=np.float32, shape=shape)\n",
    "    return data"
   ]
  },
  {
   "cell_type": "code",
   "execution_count": 30,
   "metadata": {
    "colab": {
     "autoexec": {
      "startup": false,
      "wait_interval": 0
     }
    },
    "colab_type": "code",
    "id": "o5DC8sCtLFLm"
   },
   "outputs": [],
   "source": [
    "def binarize_rating(data, cutoff=3, eps=1e-6):\n",
    "    data.data[data.data < cutoff] = eps   # small value so that it will not be treated as 0 in sparse matrix \n",
    "    data.data[data.data >= cutoff] = 1\n",
    "    return data"
   ]
  },
  {
   "cell_type": "code",
   "execution_count": 31,
   "metadata": {
    "colab": {
     "autoexec": {
      "startup": false,
      "wait_interval": 0
     }
    },
    "colab_type": "code",
    "id": "2vtvTB0zLG1d"
   },
   "outputs": [],
   "source": [
    "def exp_to_imp(data, cutoff=0.5):\n",
    "    # turn data (explicit feedback) to implict with cutoff\n",
    "    data_imp = data.copy()\n",
    "    data_imp.data[data_imp.data < cutoff] = 0\n",
    "    data_imp.data[data_imp.data >= cutoff] = 1\n",
    "    data_imp.data = data_imp.data.astype('int32')\n",
    "    data_imp.eliminate_zeros()\n",
    "    return data_imp"
   ]
  },
  {
   "cell_type": "code",
   "execution_count": 32,
   "metadata": {
    "colab": {
     "autoexec": {
      "startup": false,
      "wait_interval": 0
     }
    },
    "colab_type": "code",
    "id": "n39ZBAWiLKNG"
   },
   "outputs": [],
   "source": [
    "def binarize_spmat(spmat):\n",
    "    spmat_binary = spmat.copy()\n",
    "    spmat_binary.data = np.ones_like(spmat_binary.data)\n",
    "    return spmat_binary"
   ]
  },
  {
   "cell_type": "code",
   "execution_count": 33,
   "metadata": {
    "colab": {
     "autoexec": {
      "startup": false,
      "wait_interval": 0
     }
    },
    "colab_type": "code",
    "id": "xdbg3EROLMHF"
   },
   "outputs": [],
   "source": [
    "def subsample_negatives(data, full_data=None, random_state=0, verbose=False):\n",
    "    # roughly subsample the same number of negative as the positive in `data` for each user\n",
    "    # `full_data` is all the positives we *are supposed to* know\n",
    "    n_users, n_items = data.shape\n",
    "    \n",
    "    if full_data is None:\n",
    "        full_data = data\n",
    "\n",
    "    rows_neg, cols_neg = [], []\n",
    "\n",
    "    np.random.seed(random_state)\n",
    "\n",
    "    for u in xrange(n_users):\n",
    "        p = np.ones(n_items, dtype='float32')\n",
    "        p[full_data[u].nonzero()[1]] = 0\n",
    "        p /= p.sum()\n",
    "\n",
    "        neg_items = np.random.choice(n_items, size=data[u].nnz, replace=False, p=p)\n",
    "\n",
    "        rows_neg.append([u] * data[u].nnz)\n",
    "        cols_neg.append(neg_items)\n",
    "\n",
    "        if verbose and u % 5000 == 0:\n",
    "            print(\"%d users sampled\" % u)\n",
    "            sys.stdout.flush()\n",
    "\n",
    "    rows_neg = np.hstack(rows_neg)\n",
    "    cols_neg = np.hstack(cols_neg)\n",
    "\n",
    "    return rows_neg, cols_neg"
   ]
  },
  {
   "cell_type": "code",
   "execution_count": 34,
   "metadata": {
    "colab": {
     "autoexec": {
      "startup": false,
      "wait_interval": 0
     }
    },
    "colab_type": "code",
    "id": "uIEEYQOALTBf"
   },
   "outputs": [],
   "source": [
    "train_data = load_data(os.path.join(OUT_DATA_DIR, 'train_full.csv'))"
   ]
  },
  {
   "cell_type": "code",
   "execution_count": 35,
   "metadata": {
    "colab": {
     "autoexec": {
      "startup": false,
      "wait_interval": 0
     },
     "base_uri": "https://localhost:8080/",
     "height": 283
    },
    "colab_type": "code",
    "executionInfo": {
     "elapsed": 1410,
     "status": "ok",
     "timestamp": 1524204068525,
     "user": {
      "displayName": "Yixin Wang",
      "photoUrl": "//lh4.googleusercontent.com/-g-8r3ggQo6c/AAAAAAAAAAI/AAAAAAAAJ0E/eQJGyS8z2OA/s50-c-k-no/photo.jpg",
      "userId": "117732458334621555108"
     },
     "user_tz": 240
    },
    "id": "jLDX3VfCLYy_",
    "outputId": "3316c549-7e5a-4ad8-fe0c-79da7a7094ce"
   },
   "outputs": [
    {
     "data": {
      "image/png": "[encoded data removed]",
      "text/plain": [
       "<matplotlib.figure.Figure at 0x111a0d780>"
      ]
     },
     "metadata": {},
     "output_type": "display_data"
    }
   ],
   "source": [
    "bins = np.histogram(train_data.data, bins=5)[0]\n",
    "plt.bar(np.arange(1, 6), bins)\n",
    "pass"
   ]
  },
  {
   "cell_type": "code",
   "execution_count": 36,
   "metadata": {},
   "outputs": [],
   "source": [
    "test_data = load_data(os.path.join(OUT_DATA_DIR, 'test_full.csv'))\n",
    "vad_data = load_data(os.path.join(OUT_DATA_DIR, 'validation.csv'))"
   ]
  },
  {
   "cell_type": "code",
   "execution_count": 37,
   "metadata": {},
   "outputs": [
    {
     "data": {
      "image/png": "[encoded data removed]",
      "text/plain": [
       "<matplotlib.figure.Figure at 0x10389a9b0>"
      ]
     },
     "metadata": {},
     "output_type": "display_data"
    }
   ],
   "source": [
    "bins = np.histogram(test_data.data, bins=5)[0]\n",
    "plt.bar(np.arange(1, 6), bins)\n",
    "pass"
   ]
  },
  {
   "cell_type": "code",
   "execution_count": 38,
   "metadata": {},
   "outputs": [
    {
     "data": {
      "image/png": "[encoded data removed]",
      "text/plain": [
       "<matplotlib.figure.Figure at 0x112f959b0>"
      ]
     },
     "metadata": {},
     "output_type": "display_data"
    }
   ],
   "source": [
    "bins = np.histogram(vad_data.data, bins=5)[0]\n",
    "plt.bar(np.arange(1, 6), bins)\n",
    "pass"
   ]
  }
 ],
 "metadata": {
  "accelerator": "GPU",
  "colab": {
   "collapsed_sections": [
    "PDmqLFdveAXE",
    "fqGXUUC1GDRW",
    "oDaE2c6vHUs4",
    "Ai00yTt0LcKo",
    "ShUq9OWC11BN",
    "aKqNXmhpTDB8",
    "X4DNoc1zkhty"
   ],
   "default_view": {},
   "name": "deconfound_recommendation_gmf_R3.ipynb",
   "provenance": [
    {
     "file_id": "1iyKkTE1Jv3UqjiMx8pu45aQj5XdLRCKi",
     "timestamp": 1524024237657
    },
    {
     "file_id": "1THbZHTVUamCuyONzyWHtREtZcn163G9p",
     "timestamp": 1517254346174
    }
   ],
   "version": "0.3.2",
   "views": {}
  },
  "kernelspec": {
   "display_name": "Python 2",
   "language": "python",
   "name": "python2"
  },
  "language_info": {
   "codemirror_mode": {
    "name": "ipython",
    "version": 2
   },
   "file_extension": ".py",
   "mimetype": "text/x-python",
   "name": "python",
   "nbconvert_exporter": "python",
   "pygments_lexer": "ipython2",
   "version": "2.7.16"
  }
 },
 "nbformat": 4,
 "nbformat_minor": 1
}
